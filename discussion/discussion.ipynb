{
 "cells": [
  {
   "cell_type": "code",
   "execution_count": 17,
   "id": "dac75e3d-2a61-4441-bb79-fc9e5bab29de",
   "metadata": {},
   "outputs": [],
   "source": [
    "from itertools import product\n",
    "from pathlib import Path\n",
    "import pandas as pd\n",
    "import altair as alt\n",
    "\n",
    "# the resolve(strict=True) is just to fail fast if the directories change\n",
    "hw1_src = (Path('..') / 'src' / 'hw1').resolve(strict=True)\n",
    "data_gen_src_path = (hw1_src / 'DatasetGenerator.java').resolve(strict=True)\n",
    "sort_src_path = (hw1_src / 'Main.java').resolve(strict=True)\n",
    "data_bin_path = Path('.') / 'data.bin'\n",
    "sorted_bin_path = Path('.') / 'sorted.bin'\n",
    "\n",
    "\n",
    "\n",
    "def get_timing(t,n):\n",
    "    # TODO: finish implementing the sorting algorithm and return real times\n",
    "    \n",
    "    #!java /path/to/datagen.java /path/to/data.bin $n\n",
    "    #elapsed = !time java /path/to/java/file.java /path/to/data.bin /path/to/sorted.bin\n",
    "    \n",
    "    # fake timings for now\n",
    "    return int(n / (t**0.9)) or 1\n"
   ]
  },
  {
   "cell_type": "code",
   "execution_count": 18,
   "id": "cf4ee09e-f1a0-4817-a2c2-0defc1208946",
   "metadata": {
    "tags": []
   },
   "outputs": [],
   "source": [
    "T = [2**i for i in range(7)]\n",
    "N = [10**i for i in range(5, 9)]\n",
    "combinations = list(product(T, N))\n",
    "timings = [(t, n, get_timing(t,n)) for t,n in combinations]\n",
    "df = pd.DataFrame(timings, columns=[\"threads\", \"input size\", \"time (seconds)\"])"
   ]
  },
  {
   "cell_type": "code",
   "execution_count": 20,
   "id": "b9134ced-e6c8-43e2-b341-71ad90fa6b11",
   "metadata": {},
   "outputs": [
    {
     "data": {
      "text/html": [
       "\n",
       "<div id=\"altair-viz-defbcaa0a0c746f6b2eb189e396b8ca2\"></div>\n",
       "<script type=\"text/javascript\">\n",
       "  (function(spec, embedOpt){\n",
       "    let outputDiv = document.currentScript.previousElementSibling;\n",
       "    if (outputDiv.id !== \"altair-viz-defbcaa0a0c746f6b2eb189e396b8ca2\") {\n",
       "      outputDiv = document.getElementById(\"altair-viz-defbcaa0a0c746f6b2eb189e396b8ca2\");\n",
       "    }\n",
       "    const paths = {\n",
       "      \"vega\": \"https://cdn.jsdelivr.net/npm//vega@5?noext\",\n",
       "      \"vega-lib\": \"https://cdn.jsdelivr.net/npm//vega-lib?noext\",\n",
       "      \"vega-lite\": \"https://cdn.jsdelivr.net/npm//vega-lite@4.8.1?noext\",\n",
       "      \"vega-embed\": \"https://cdn.jsdelivr.net/npm//vega-embed@6?noext\",\n",
       "    };\n",
       "\n",
       "    function loadScript(lib) {\n",
       "      return new Promise(function(resolve, reject) {\n",
       "        var s = document.createElement('script');\n",
       "        s.src = paths[lib];\n",
       "        s.async = true;\n",
       "        s.onload = () => resolve(paths[lib]);\n",
       "        s.onerror = () => reject(`Error loading script: ${paths[lib]}`);\n",
       "        document.getElementsByTagName(\"head\")[0].appendChild(s);\n",
       "      });\n",
       "    }\n",
       "\n",
       "    function showError(err) {\n",
       "      outputDiv.innerHTML = `<div class=\"error\" style=\"color:red;\">${err}</div>`;\n",
       "      throw err;\n",
       "    }\n",
       "\n",
       "    function displayChart(vegaEmbed) {\n",
       "      vegaEmbed(outputDiv, spec, embedOpt)\n",
       "        .catch(err => showError(`Javascript Error: ${err.message}<br>This usually means there's a typo in your chart specification. See the javascript console for the full traceback.`));\n",
       "    }\n",
       "\n",
       "    if(typeof define === \"function\" && define.amd) {\n",
       "      requirejs.config({paths});\n",
       "      require([\"vega-embed\"], displayChart, err => showError(`Error loading script: ${err.message}`));\n",
       "    } else if (typeof vegaEmbed === \"function\") {\n",
       "      displayChart(vegaEmbed);\n",
       "    } else {\n",
       "      loadScript(\"vega\")\n",
       "        .then(() => loadScript(\"vega-lite\"))\n",
       "        .then(() => loadScript(\"vega-embed\"))\n",
       "        .catch(showError)\n",
       "        .then(() => displayChart(vegaEmbed));\n",
       "    }\n",
       "  })({\"config\": {\"view\": {\"continuousWidth\": 400, \"continuousHeight\": 300}}, \"data\": {\"name\": \"data-47fced2e47b246edde76610c892503eb\"}, \"mark\": \"line\", \"encoding\": {\"color\": {\"type\": \"quantitative\", \"field\": \"time (seconds)\"}, \"x\": {\"type\": \"quantitative\", \"field\": \"input size\"}, \"y\": {\"type\": \"quantitative\", \"field\": \"threads\"}}, \"$schema\": \"https://vega.github.io/schema/vega-lite/v4.8.1.json\", \"datasets\": {\"data-47fced2e47b246edde76610c892503eb\": [{\"threads\": 1, \"input size\": 100000, \"time (seconds)\": 100000}, {\"threads\": 1, \"input size\": 1000000, \"time (seconds)\": 1000000}, {\"threads\": 1, \"input size\": 10000000, \"time (seconds)\": 10000000}, {\"threads\": 1, \"input size\": 100000000, \"time (seconds)\": 100000000}, {\"threads\": 2, \"input size\": 100000, \"time (seconds)\": 53588}, {\"threads\": 2, \"input size\": 1000000, \"time (seconds)\": 535886}, {\"threads\": 2, \"input size\": 10000000, \"time (seconds)\": 5358867}, {\"threads\": 2, \"input size\": 100000000, \"time (seconds)\": 53588673}, {\"threads\": 4, \"input size\": 100000, \"time (seconds)\": 28717}, {\"threads\": 4, \"input size\": 1000000, \"time (seconds)\": 287174}, {\"threads\": 4, \"input size\": 10000000, \"time (seconds)\": 2871745}, {\"threads\": 4, \"input size\": 100000000, \"time (seconds)\": 28717458}, {\"threads\": 8, \"input size\": 100000, \"time (seconds)\": 15389}, {\"threads\": 8, \"input size\": 1000000, \"time (seconds)\": 153893}, {\"threads\": 8, \"input size\": 10000000, \"time (seconds)\": 1538930}, {\"threads\": 8, \"input size\": 100000000, \"time (seconds)\": 15389305}, {\"threads\": 16, \"input size\": 100000, \"time (seconds)\": 8246}, {\"threads\": 16, \"input size\": 1000000, \"time (seconds)\": 82469}, {\"threads\": 16, \"input size\": 10000000, \"time (seconds)\": 824692}, {\"threads\": 16, \"input size\": 100000000, \"time (seconds)\": 8246924}, {\"threads\": 32, \"input size\": 100000, \"time (seconds)\": 4419}, {\"threads\": 32, \"input size\": 1000000, \"time (seconds)\": 44194}, {\"threads\": 32, \"input size\": 10000000, \"time (seconds)\": 441941}, {\"threads\": 32, \"input size\": 100000000, \"time (seconds)\": 4419417}, {\"threads\": 64, \"input size\": 100000, \"time (seconds)\": 2368}, {\"threads\": 64, \"input size\": 1000000, \"time (seconds)\": 23683}, {\"threads\": 64, \"input size\": 10000000, \"time (seconds)\": 236830}, {\"threads\": 64, \"input size\": 100000000, \"time (seconds)\": 2368307}]}}, {\"mode\": \"vega-lite\"});\n",
       "</script>"
      ],
      "text/plain": [
       "alt.Chart(...)"
      ]
     },
     "execution_count": 20,
     "metadata": {},
     "output_type": "execute_result"
    }
   ],
   "source": [
    "alt.Chart(df).mark_line().encode(\n",
    "  x='input size',\n",
    "  y='threads',\n",
    "  color='time (seconds)'\n",
    ")"
   ]
  },
  {
   "cell_type": "code",
   "execution_count": null,
   "id": "c64d9b39-08e0-4971-bd41-1c5d3c5cd82e",
   "metadata": {},
   "outputs": [],
   "source": []
  }
 ],
 "metadata": {
  "kernelspec": {
   "display_name": "Python 3 (ipykernel)",
   "language": "python",
   "name": "python3"
  },
  "language_info": {
   "codemirror_mode": {
    "name": "ipython",
    "version": 3
   },
   "file_extension": ".py",
   "mimetype": "text/x-python",
   "name": "python",
   "nbconvert_exporter": "python",
   "pygments_lexer": "ipython3",
   "version": "3.9.7"
  }
 },
 "nbformat": 4,
 "nbformat_minor": 5
}
