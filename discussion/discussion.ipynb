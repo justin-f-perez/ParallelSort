{
 "cells": [
  {
   "cell_type": "code",
   "execution_count": null,
   "id": "dac75e3d-2a61-4441-bb79-fc9e5bab29de",
   "metadata": {},
   "outputs": [],
   "source": [
    "from itertools import product\n",
    "from pathlib import Path\n",
    "import pandas as pd\n",
    "import altair as alt\n",
    "\n",
    "# the resolve(strict=True) is just to fail fast if the directories change\n",
    "hw1_src = (Path('..') / 'src' / 'hw1').resolve(strict=True)\n",
    "data_gen_src_path = (hw1_src / 'DatasetGenerator.java').resolve(strict=True)\n",
    "sort_src_path = (hw1_src / 'Main.java').resolve(strict=True)\n",
    "data_bin_path = Path('.') / 'data.bin'\n",
    "sorted_bin_path = Path('.') / 'sorted.bin'\n",
    "\n",
    "\n",
    "\n",
    "def get_timing(t,n):\n",
    "    # TODO: finish implementing the sorting algorithm and return real times\n",
    "    \n",
    "    #!java /path/to/datagen.java /path/to/data.bin $n\n",
    "    #elapsed = !time java /path/to/java/file.java /path/to/data.bin /path/to/sorted.bin\n",
    "    \n",
    "    # fake timings for now\n",
    "    return int(n / (t**0.9)) or 1\n"
   ]
  },
  {
   "cell_type": "code",
   "execution_count": null,
   "id": "cf4ee09e-f1a0-4817-a2c2-0defc1208946",
   "metadata": {
    "tags": []
   },
   "outputs": [],
   "source": [
    "T = [2**i for i in range(7)]\n",
    "N = [10**i for i in range(5, 9)]\n",
    "combinations = list(product(T, N))\n",
    "timings = [(t, n, get_timing(t,n)) for t,n in combinations]\n",
    "df = pd.DataFrame(timings, columns=[\"threads\", \"input size\", \"time (seconds)\"])"
   ]
  },
  {
   "cell_type": "code",
   "execution_count": null,
   "id": "b9134ced-e6c8-43e2-b341-71ad90fa6b11",
   "metadata": {},
   "outputs": [],
   "source": [
    "alt.Chart(df).mark_line().encode(\n",
    "  x='input size:T',\n",
    "  y='time (seconds):Q',\n",
    "  color='threads:N'\n",
    ")"
   ]
  },
  {
   "cell_type": "code",
   "execution_count": null,
   "id": "c64d9b39-08e0-4971-bd41-1c5d3c5cd82e",
   "metadata": {},
   "outputs": [],
   "source": []
  }
 ],
 "metadata": {
  "kernelspec": {
   "display_name": "Python 3 (ipykernel)",
   "language": "python",
   "name": "python3"
  },
  "language_info": {
   "codemirror_mode": {
    "name": "ipython",
    "version": 3
   },
   "file_extension": ".py",
   "mimetype": "text/x-python",
   "name": "python",
   "nbconvert_exporter": "python",
   "pygments_lexer": "ipython3",
   "version": "3.9.7"
  }
 },
 "nbformat": 4,
 "nbformat_minor": 5
}
