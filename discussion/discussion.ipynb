{
 "cells": [
  {
   "cell_type": "code",
   "execution_count": null,
   "id": "66368e2e-b2fc-4a0f-a698-0d9d2c70d8a3",
   "metadata": {},
   "outputs": [],
   "source": [
    "\"\"\"\n",
    "Author: Justin Perez (justin-perez@uiowa.edu)\n",
    "Date: 2020-09-22\n",
    "\n",
    "terminology:\n",
    "    input length: count of 64-bit integers\n",
    "    N: the set of input lengths to be tested\n",
    "    n: represents a single value in N\n",
    "    T: the set of '# of threads' values to be tested\n",
    "    t: a single value in T\n",
    "    mode: linux-style permission string, e.g., '-rw-rw-r--' (more info: https://www.comentum.com/images/permissions.jpg)\n",
    "    \n",
    "\n",
    "This notebook was tested with:\n",
    "* hardware: 2020 M1 Macbook Pro (16 GB)\n",
    "* python: 3.9.7 (distributed by homebrew)\n",
    "    altair==4.1.0\n",
    "    humanize==3.11.0\n",
    "    jupyterlab==3.1.12\n",
    "    pandas==1.3.3\n",
    "* java: openjdk 16.0.2 (Temurin)\n",
    "\"\"\"\n",
    "from datetime import timedelta\n",
    "from itertools import product\n",
    "from pathlib import Path\n",
    "import pandas as pd\n",
    "import altair as alt\n",
    "from stat import filemode\n",
    "import humanize\n",
    "from IPython.display import display\n",
    "\n",
    "\n",
    "pd.options.display.max_colwidth = None"
   ]
  },
  {
   "cell_type": "code",
   "execution_count": null,
   "id": "543dfeca-3a44-489c-b502-ebf3ad9deb00",
   "metadata": {
    "tags": []
   },
   "outputs": [],
   "source": [
    "DEBUG = False  # controls output verbosity. True -> more verbose; False -> less verbose\n",
    "FORCE_CREATE_INPUTS = False  # forces recreation of test input files even if they already exist\n",
    "\n",
    "T = [2**i for i in range(8)]\n",
    "N = [10**i for i in range(4, 8)]\n",
    "combinations = list(product(N, T))\n",
    "iterations = 25 # how many times to execute each combo \n",
    "\n",
    "\n",
    "# chart/table labels\n",
    "THREADS = 'T (# of threads)'\n",
    "INPUT = 'N (# of 64-bit integers)'\n",
    "REAL = 'real time (seconds)'\n",
    "USER = 'user execution time (cpu seconds)'\n",
    "SYS = 'system overhead time (cpu seconds)'\n",
    "LABELS = [INPUT, THREADS, REAL, USER, SYS]\n",
    "\n",
    "if DEBUG:\n",
    "    print(f\"{T=}\")\n",
    "    print(f\"{N=}\")\n",
    "    print(f\"{LABELS=}\")\n",
    "    humanized = [(humanize.intcomma(n), t) for n, t in combinations]\n",
    "    display(pd.DataFrame(humanized, columns=[INPUT, THREADS]))"
   ]
  },
  {
   "cell_type": "code",
   "execution_count": null,
   "id": "f3b2295e-21b0-4076-91be-d0af90b82996",
   "metadata": {
    "tags": []
   },
   "outputs": [],
   "source": [
    "# strict=True to fail fast if the directories dont exist\n",
    "base_dir = Path('..').resolve(strict=True)\n",
    "input_dir = base_dir / \"tmp\"\n",
    "class_path = (base_dir/\"out\"/\"production\"/\"ParallelSort\").resolve(strict=True)\n",
    "# it's ok if input/output don't exist yet\n",
    "output_path = (base_dir / 'sorted.bin').resolve(strict=False)\n",
    "\n",
    "# where to save the timing data from executing all those `combinations` `iterations` times,\n",
    "# and whether to load an existing save file or collect a fresh set of data\n",
    "timing_save_path = base_dir / 'observations.csv'\n",
    "# True = load existing data from save path, False = make new data\n",
    "skip_execution = load_existing_save = False\n",
    "# force saving new data (only relevant when skip_execution/load_existing is False)\n",
    "overwrite_existing_saved_timing = False\n",
    "\n",
    "# figure out where java lives\n",
    "java_bin = !which java\n",
    "assert len(java_bin) == 1\n",
    "java_bin = java_bin[0]\n",
    "\n",
    "# command formatting\n",
    "base_command = f\"time {java_bin} {'-ea' if DEBUG else ''} -cp {class_path}\"\n",
    "sort_command = f\"{base_command} hw1.ParallelExternalLongSorter\"\n",
    "generate_command = f\"{base_command} hw1.DataFileGenerator\"\n",
    "\n",
    "if DEBUG:\n",
    "    print(f\"\"\"\n",
    "        {java_bin=}\n",
    "        {class_path=}\n",
    "        {base_dir=}\n",
    "        {output_path=}\n",
    "        {sort_command=}\n",
    "        {generate_command=}\n",
    "    \"\"\")"
   ]
  },
  {
   "cell_type": "code",
   "execution_count": null,
   "id": "49f49936-1de9-47ad-93b8-40d4f665e0e2",
   "metadata": {
    "tags": []
   },
   "outputs": [],
   "source": [
    "def generate(filename: Path, length:int):\n",
    "    output = !$generate_command $filename $length\n",
    "    return output\n",
    "        \n",
    "def sort(input_path:Path, output_path:Path, threads:int=0):\n",
    "    cmd = f\"time {sort_command} {input_path} {output_path} {threads or ''}\"\n",
    "    output = !$cmd\n",
    "    return output\n",
    "\n",
    "def get_time(command_output):\n",
    "    \"\"\"super hacky util function for parsing output of time command\n",
    "    probably won't work for non-zsh shells\n",
    "    note: ipython uses your default shell unless specified otherwise\n",
    "    \n",
    "    returns a dictionary: {\"real\": seconds, \"user\": seconds, \"sys\": seconds}\n",
    "        seconds: float\n",
    "        real: the \"wall clock time\"\n",
    "        user: time executing the command\n",
    "        sys: time spent on system overhead\n",
    "    \"\"\"\n",
    "    # find the right line\n",
    "    grep = command_output.grep('^\\s*([\\d\\.]*) r')\n",
    "    # get rid of extra white space\n",
    "    fields = grep.fields()\n",
    "    # we got a list of fields for each line of output, but there should only be one line of output\n",
    "    assert len(fields) == 1\n",
    "    fields = fields[0]\n",
    "    # we're going to turn this into a dictionary, but the fields are in reverse order\n",
    "    fields = fields[::-1]\n",
    "    # now we have something like [\"user\", \"1.3\", \"real\", \"2.8\", \"sys\", \"3.2\"] and need to turn it into pairs\n",
    "    it = iter(fields)\n",
    "    pairs = zip(it, it)\n",
    "    return dict(pairs)\n",
    "\n",
    "if DEBUG:\n",
    "    input_path = (base_dir / 'data.bin').resolve(strict=False)\n",
    "    debug_outputs = [\n",
    "        generate(input_path, 100),\n",
    "        sort(input_path, output_path),\n",
    "        sort(input_path, output_path, 1),\n",
    "        sort(input_path, output_path, 2),\n",
    "    ]\n",
    "    print(debug_outputs)\n",
    "    assert input_path.resolve(strict=True)\n",
    "    assert output_path.resolve(strict=True)"
   ]
  },
  {
   "cell_type": "code",
   "execution_count": null,
   "id": "dbbf976e-3ce7-4434-8c7d-40607a088ead",
   "metadata": {
    "tags": []
   },
   "outputs": [],
   "source": [
    "input_paths = {\n",
    "    n: (base_dir / str(n)).with_suffix('.bin')\n",
    "    for n in N\n",
    "}\n",
    "\n",
    "for n, p in input_paths.items():\n",
    "    if FORCE_CREATE_INPUTS or not p.exists():\n",
    "        generate(p, n)\n",
    "    \n",
    "if DEBUG:\n",
    "    columns = ['n', 'path', 'mode', 'size']\n",
    "    rows = []\n",
    "    for n, p in input_paths.items():\n",
    "        assert p.exists()\n",
    "        assert p.is_file()\n",
    "        st = p.stat()\n",
    "        rows.append([\n",
    "            humanize.scientific(n, precision=0),\n",
    "            str(p.resolve(strict=True)),\n",
    "            filemode(st.st_mode),\n",
    "            humanize.naturalsize(st.st_size),\n",
    "        ])\n",
    "    df = pd.DataFrame(rows, columns=columns)\n",
    "    display(df)"
   ]
  },
  {
   "cell_type": "code",
   "execution_count": null,
   "id": "1dc55d8c-a96a-46aa-8780-12402ccca42b",
   "metadata": {
    "tags": []
   },
   "outputs": [],
   "source": [
    "def get_sort_time(n, t):\n",
    "    output = sort(\n",
    "        input_path=input_paths[n],\n",
    "        output_path=output_path,\n",
    "        threads=t,\n",
    "    )\n",
    "    return (get_time(output), output)\n",
    "    \n",
    "\n",
    "if DEBUG:\n",
    "    n, t = combinations[0]\n",
    "    timing, output = get_sort_time(n ,t)\n",
    "    print(f\"{timing=}\")"
   ]
  },
  {
   "cell_type": "code",
   "execution_count": null,
   "id": "7df1df23-04f7-4d6c-82a9-35580b1d5fc2",
   "metadata": {
    "tags": []
   },
   "outputs": [],
   "source": [
    "timings = {\n",
    "    combo: [] for combo in combinations\n",
    "}\n",
    "\n",
    "if DEBUG:\n",
    "    outputs = {\n",
    "        combo: [] for combo in combinations\n",
    "    }\n",
    "\n",
    "for combo in combinations:\n",
    "    if skip_execution:\n",
    "        break\n",
    "    n, t = combo\n",
    "    for i in range(iterations):\n",
    "        if DEBUG:\n",
    "            print(f\"starting iteration #{i} sorting {n=} 64-bit integers on {t=} threads\")\n",
    "        timing, output = get_sort_time(n, t)\n",
    "        timings[combo].append(timing)\n",
    "        if DEBUG:\n",
    "            outputs[combo].append(output)"
   ]
  },
  {
   "cell_type": "code",
   "execution_count": null,
   "id": "e13a4b48-b062-403f-bb6e-256bc7c62125",
   "metadata": {
    "tags": []
   },
   "outputs": [],
   "source": [
    "if load_existing_save:\n",
    "    df = pd.read_csv(timing_save_path)\n",
    "else:    \n",
    "    # time to flatten everything out\n",
    "    rows = []\n",
    "\n",
    "    for (n, t), time_dicts in timings.items():\n",
    "        for time_dict in time_dicts:\n",
    "            rows.append([\n",
    "                n,\n",
    "                t,\n",
    "                # Altair doesn't like timedeltas\n",
    "                #timedelta(seconds=float(time_dict['real'])),\n",
    "                #timedelta(seconds=float(time_dict['user'])),\n",
    "                #timedelta(seconds=float(time_dict['sys' ])),\n",
    "                float(time_dict['real']),\n",
    "                float(time_dict['user']),\n",
    "                float(time_dict['sys' ]),\n",
    "            ])\n",
    "    if DEBUG:\n",
    "        print(rows[:5])\n",
    "        print('...')\n",
    "        print(rows[-5:])\n",
    "        \n",
    "    df = pd.DataFrame(rows, columns=LABELS)\n",
    "    if not timing_save_path.exists() or overwrite_existing_saved_timing:\n",
    "        df.to_csv(timing_save_path)\n",
    "\n",
    "if DEBUG:\n",
    "    display(df)\n",
    "    display(df.dtypes)\n",
    "    ls_timing = !ls -lh $timing_save_path  #| grep $timing_save_path\n",
    "    print('\\n'.join(ls_timing))"
   ]
  },
  {
   "cell_type": "code",
   "execution_count": null,
   "id": "30eb57b7-06e0-48d9-80b4-cda6324379e6",
   "metadata": {
    "tags": []
   },
   "outputs": [],
   "source": [
    "chart_types = [REAL, USER, SYS]\n",
    "charts = dict()\n",
    "for chart_type in chart_types:\n",
    "    line = alt.Chart(df).mark_line().encode(\n",
    "      x=THREADS, #\n",
    "      y=f'mean({chart_type}):Q',\n",
    "      color=f'{INPUT}:N'\n",
    "    )\n",
    "\n",
    "    band = alt.Chart(df).mark_errorband(extent='ci').encode(\n",
    "        x=THREADS,\n",
    "        y=alt.Y(f'{chart_type}:Q'),\n",
    "        color=f'{INPUT}:N'\n",
    "    )\n",
    "\n",
    "    charts[chart_type] = line + band"
   ]
  },
  {
   "cell_type": "code",
   "execution_count": null,
   "id": "0fd6a759-7fb9-4caa-8d9c-db69e9158fdf",
   "metadata": {
    "tags": []
   },
   "outputs": [],
   "source": [
    "charts[REAL]"
   ]
  },
  {
   "cell_type": "code",
   "execution_count": null,
   "id": "291163ab-5e41-4ae7-8154-9e37a771a0e2",
   "metadata": {
    "tags": []
   },
   "outputs": [],
   "source": [
    "charts[USER]"
   ]
  },
  {
   "cell_type": "code",
   "execution_count": null,
   "id": "291435ab-6cc7-4a6f-9e55-505da3e0ffcf",
   "metadata": {
    "tags": []
   },
   "outputs": [],
   "source": [
    "charts[SYS]"
   ]
  }
 ],
 "metadata": {
  "kernelspec": {
   "display_name": "Python 3 (ipykernel)",
   "language": "python",
   "name": "python3"
  },
  "language_info": {
   "codemirror_mode": {
    "name": "ipython",
    "version": 3
   },
   "file_extension": ".py",
   "mimetype": "text/x-python",
   "name": "python",
   "nbconvert_exporter": "python",
   "pygments_lexer": "ipython3",
   "version": "3.9.7"
  },
  "toc-showcode": true,
  "toc-showmarkdowntxt": false
 },
 "nbformat": 4,
 "nbformat_minor": 5
}
