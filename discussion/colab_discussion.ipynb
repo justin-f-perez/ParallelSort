{
  "nbformat": 4,
  "nbformat_minor": 5,
  "metadata": {
    "kernelspec": {
      "display_name": "Python 3 (ipykernel)",
      "language": "python",
      "name": "python3"
    },
    "language_info": {
      "codemirror_mode": {
        "name": "ipython",
        "version": 3
      },
      "file_extension": ".py",
      "mimetype": "text/x-python",
      "name": "python",
      "nbconvert_exporter": "python",
      "pygments_lexer": "ipython3",
      "version": "3.9.7"
    },
    "toc-showcode": true,
    "toc-showmarkdowntxt": false,
    "colab": {
      "name": "colab-discussion.ipynb",
      "provenance": []
    }
  },
  "cells": [
    {
      "cell_type": "code",
      "metadata": {
        "id": "1jKmnS66B36h"
      },
      "source": [
        "\"\"\"\n",
        "Author: Justin Perez (justin-perez@uiowa.edu)\n",
        "Date: 2020-09-22\n",
        "Modified: 2020-09-26 (converted to colab notebook)\n",
        "\n",
        "don't run this on your local machine, open it in\n",
        "https://colab.research.google.com\n",
        "\n",
        "if you plan to commit changes\n",
        "    * edit -> clear all outputs\n",
        "    * File -> Download -> ipynb\n",
        "    * copy the downloaded notebook into your local repository\n",
        "    * git add/commit/push\n",
        "\"\"\"\n",
        "\n",
        "import sys\n",
        "COLAB = 'google.colab' in sys.modules\n",
        "if not COLAB:\n",
        "    raise Exception(\"You shouldn't run this locally.\")\n",
        "\n",
        "#@title Configuration\n",
        "iterations = 1 #@param {type: \"slider\", min: 1}\n",
        "enable_java_assertions = True #@param {type: \"boolean\"}\n",
        "branch = \"main\" #@param {type: \"string\"}"
      ],
      "id": "1jKmnS66B36h",
      "execution_count": null,
      "outputs": []
    },
    {
      "cell_type": "code",
      "metadata": {
        "id": "WvpLJth7TdyY"
      },
      "source": [
        "%%bash -s \"$branch\"\n",
        "set -euo pipefail\n",
        "\n",
        "REPO='/content/ParallelSort'\n",
        "URL='https://github.com/justin-f-perez/ParallelSort'\n",
        "OUTDIR=\"out/production/ParallelSort\"\n",
        "JAVA_FILES=\"src/hw1/*.java\"\n",
        "BRANCH=\"$1\"\n",
        "echo $BRANCH\n",
        "\n",
        "apt-get update > /dev/null\n",
        "apt-get install -y time > /dev/null\n",
        "\n",
        "if [ ! -d $REPO ]; then\n",
        "    echo \"cloning repository\"\n",
        "    git clone $URL $REPO\n",
        "fi\n",
        "\n",
        "cd $REPO\n",
        "git checkout \"$BRANCH\"\n",
        "git fetch origin\n",
        "git reset origin/$BRANCH --hard\n",
        "\n",
        "mkdir -p $OUTDIR\n",
        "javac -d $OUTDIR $JAVA_FILES"
      ],
      "id": "WvpLJth7TdyY",
      "execution_count": null,
      "outputs": []
    },
    {
      "cell_type": "code",
      "metadata": {
        "id": "66368e2e-b2fc-4a0f-a698-0d9d2c70d8a3"
      },
      "source": [
        "!pip install altair pandas icecream humanize -qq\n",
        "import sys\n",
        "import humanize                  # string formatting for humans, e.g. humanize.intcomma(1000) == \"1,000\"\n",
        "from itertools import product    # cross product\n",
        "from pathlib import Path         # fairly similar to Java's Path class\n",
        "import pandas as pd              # table-oriented data processing\n",
        "import altair as alt             # charting\n",
        "from stat import filemode        # for parsing file permissions (debugging)\n",
        "from icecream import ic         # debugging\n",
        "from IPython.display import display  # nicer output in notebook\n",
        "# display() formatting options\n",
        "pd.options.display.max_colwidth = None\n",
        "pd.options.display.max_rows = 10"
      ],
      "id": "66368e2e-b2fc-4a0f-a698-0d9d2c70d8a3",
      "execution_count": null,
      "outputs": []
    },
    {
      "cell_type": "code",
      "metadata": {
        "tags": [],
        "id": "f3b2295e-21b0-4076-91be-d0af90b82996"
      },
      "source": [
        "# powers of 2 from 1 to 128\n",
        "T = [2**i for i in range(8)]\n",
        "# powers of 10 from 10,000 to 10,000,000\n",
        "N = [10**i for i in range(4, 8)]\n",
        "# every combination of (n in N, t in T)\n",
        "# i.e. [(1, 10000), ... (128, 10000000)]\n",
        "combinations = list(product(N, T))  \n",
        "\n",
        "# chart/table labels; use these constants for tab completion and consistency\n",
        "THREADS = 'T (# of threads)'\n",
        "INPUT = 'N (# of 64-bit integers)'\n",
        "REAL = 'real time (seconds)'\n",
        "USER = 'user execution time (cpu seconds)'\n",
        "SYS = 'system overhead time (cpu seconds)'\n",
        "LABELS = [INPUT, THREADS, REAL, USER, SYS]\n",
        "\n",
        "COLAB = 'google.colab' in sys.modules\n",
        "# build up paths to things we need to run\n",
        "base_dir = Path('/content/ParallelSort')\n",
        "input_dir = base_dir / \"tmp\"\n",
        "class_path = (base_dir/\"out\"/\"production\"/\"ParallelSort\").resolve(strict=True)\n",
        "output_path = (base_dir / 'sorted.bin').resolve(strict=False) # it's ok if input/output don't exist yet\n",
        "\n",
        "# where to save the timing data from executing all those `combinations` `iterations` times,\n",
        "# and whether to load an existing save file or collect a fresh set of data\n",
        "timing_save_path = base_dir / 'observations.csv'\n",
        "\n",
        "# figure out where java lives\n",
        "java_command = !which java\n",
        "assert len(java_command) == 1, java_command\n",
        "java_command = java_command[0]\n",
        "\n",
        "# define our runnable commands\n",
        "ea_flag = '-ea' if enable_java_assertions else ''\n",
        "base_command = f\"{java_command} {ea_flag} -cp {class_path}\"\n",
        "sort_command = f\"{base_command} hw1.ParallelExternalLongSorter\"\n",
        "generate_command = f\"{base_command} hw1.DataFileGenerator\"\n",
        "time_command = \"/usr/bin/time -p\""
      ],
      "id": "f3b2295e-21b0-4076-91be-d0af90b82996",
      "execution_count": null,
      "outputs": []
    },
    {
      "cell_type": "code",
      "metadata": {
        "tags": [],
        "id": "49f49936-1de9-47ad-93b8-40d4f665e0e2"
      },
      "source": [
        "def generate(filename: Path, length:int):\n",
        "    output = !$time_command $generate_command $filename $length\n",
        "    return output\n",
        "        \n",
        "def sort(input_path:Path, output_path:Path, threads:int):\n",
        "    output = !$time_command $sort_command $input_path $output_path $threads\n",
        "    return output\n",
        "\n",
        "def get_time(command_output):\n",
        "    \"\"\" returns a dictionary: {\"real\": seconds, \"user\": seconds, \"sys\": seconds}\n",
        "    seconds: float\n",
        "    real: the \"wall clock time\"\n",
        "    user: time executing the command\n",
        "    sys: time spent on system overhead\n",
        "    \"\"\"\n",
        "    regex = \"(real|user|sys) \\d*\\.\\d*\\d\"\n",
        "    matches = command_output.grep(regex).fields()\n",
        "    assert len(matches) == 3, ic(command_output, matches)\n",
        "    return dict(matches)"
      ],
      "id": "49f49936-1de9-47ad-93b8-40d4f665e0e2",
      "execution_count": null,
      "outputs": []
    },
    {
      "cell_type": "code",
      "metadata": {
        "tags": [],
        "id": "dbbf976e-3ce7-4434-8c7d-40607a088ead"
      },
      "source": [
        "input_paths = {\n",
        "    n: (base_dir / str(n)).with_suffix('.bin')\n",
        "    for n in N\n",
        "}\n",
        "\n",
        "for n, p in input_paths.items():\n",
        "    if not p.exists():\n",
        "        generate(p, n)"
      ],
      "id": "dbbf976e-3ce7-4434-8c7d-40607a088ead",
      "execution_count": null,
      "outputs": []
    },
    {
      "cell_type": "code",
      "metadata": {
        "tags": [],
        "id": "1dc55d8c-a96a-46aa-8780-12402ccca42b"
      },
      "source": [
        "def get_sort_time(n, t):\n",
        "    output = sort(\n",
        "        input_path=input_paths[n],\n",
        "        output_path=output_path,\n",
        "        threads=t,\n",
        "    )\n",
        "    return (get_time(output), output)"
      ],
      "id": "1dc55d8c-a96a-46aa-8780-12402ccca42b",
      "execution_count": null,
      "outputs": []
    },
    {
      "cell_type": "code",
      "metadata": {
        "tags": [],
        "id": "7df1df23-04f7-4d6c-82a9-35580b1d5fc2"
      },
      "source": [
        "timings = {\n",
        "    combo: [] for combo in combinations\n",
        "}\n",
        "\n",
        "for combo in combinations:\n",
        "    n, t = combo\n",
        "    for i in range(iterations):\n",
        "        timing, output = get_sort_time(n, t)\n",
        "        timings[combo].append(timing)"
      ],
      "id": "7df1df23-04f7-4d6c-82a9-35580b1d5fc2",
      "execution_count": null,
      "outputs": []
    },
    {
      "cell_type": "code",
      "metadata": {
        "tags": [],
        "id": "e13a4b48-b062-403f-bb6e-256bc7c62125"
      },
      "source": [
        "# time to flatten everything out and build charts\n",
        "rows = []\n",
        "for (n, t), time_dicts in timings.items():\n",
        "    for td in time_dicts:\n",
        "        real, user, sys = [float(td[x]) for x in ['real', 'user', 'sys']]\n",
        "        rows.append([n, t, real, user, sys])\n",
        "df = pd.DataFrame(rows, columns=LABELS)\n",
        "df.to_csv('saved-{}.csv'.format(pd.datetime.now().strftime(\"%Y-%m-%d_%H%M%S\")))\n",
        "\n",
        "chart_types = [REAL, USER, SYS]\n",
        "charts = dict()\n",
        "for chart_type in chart_types:\n",
        "    line = alt.Chart(df).mark_line().encode(\n",
        "      x=THREADS,\n",
        "      y=f'mean({chart_type}):Q',\n",
        "      color=f'{INPUT}:N'\n",
        "    )\n",
        "\n",
        "    band = alt.Chart(df).mark_errorband(extent='ci').encode(\n",
        "        x=THREADS,\n",
        "        y=alt.Y(f'{chart_type}:Q'),\n",
        "        color=f'{INPUT}:N'\n",
        "    )\n",
        "\n",
        "    charts[chart_type] = line + band"
      ],
      "id": "e13a4b48-b062-403f-bb6e-256bc7c62125",
      "execution_count": null,
      "outputs": []
    },
    {
      "cell_type": "code",
      "metadata": {
        "tags": [],
        "id": "0fd6a759-7fb9-4caa-8d9c-db69e9158fdf"
      },
      "source": [
        "charts[REAL]"
      ],
      "id": "0fd6a759-7fb9-4caa-8d9c-db69e9158fdf",
      "execution_count": null,
      "outputs": []
    },
    {
      "cell_type": "code",
      "metadata": {
        "tags": [],
        "id": "291163ab-5e41-4ae7-8154-9e37a771a0e2"
      },
      "source": [
        "charts[USER]"
      ],
      "id": "291163ab-5e41-4ae7-8154-9e37a771a0e2",
      "execution_count": null,
      "outputs": []
    },
    {
      "cell_type": "code",
      "metadata": {
        "tags": [],
        "id": "291435ab-6cc7-4a6f-9e55-505da3e0ffcf"
      },
      "source": [
        "charts[SYS]"
      ],
      "id": "291435ab-6cc7-4a6f-9e55-505da3e0ffcf",
      "execution_count": null,
      "outputs": []
    },
    {
      "cell_type": "code",
      "metadata": {
        "id": "3-ZY-qfQzwZ5"
      },
      "source": [
        ""
      ],
      "id": "3-ZY-qfQzwZ5",
      "execution_count": null,
      "outputs": []
    }
  ]
}
